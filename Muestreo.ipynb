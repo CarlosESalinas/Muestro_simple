{
 "cells": [
  {
   "cell_type": "markdown",
   "metadata": {},
   "source": [
    "# Ejercicio de Muestro Simple "
   ]
  },
  {
   "cell_type": "markdown",
   "metadata": {},
   "source": [
    "Las autoridades de educación básica de la alcaldía de Iztapalapa desean implementar un programa educativo para las personas mayores de 15 años con primaria incompleta con el fin de que puedan obtener su certificado de primaria. Para ello necesitan estimar el número aproximado de personas mayores de 15 años sin primaria terminada en la alcaldía.\n",
    "Se hará una encuesta en las AGEBs de Iztapalapa para recabar la información que se necesita para el diseño del programa.\n",
    "\n",
    "<ol type=\"a\">\n",
    "<li>Para poder conocer el tamaño de la muestra se realiza una prueba piloto de tamaño 12.</li>\n",
    "<li>Determinar el tamaño de muestra para un nivel de confianza del 95% y una precisión de 15 habitantes.</li>\n",
    "<li>Calcular un intervalo de confianza para el promedio de personas mayores de 15 años con primaria incompleta para la muestra definitiva.</li>\n",
    "<li>Calcular un intervalo de confianza para el total estimado de personas mayores de 15 años con primaria incompleta</li>\n",
    "\n",
    "Debido a cuestiones de presupuesto, el programa se centrará en aquellos AGEBs con al menos 200 habitantes.\n",
    "<li>A partir de la muestra definitiva, estimar el total de AGEB mayores de 200 habitantes con primaria incompleta (personas mayores de 15 años)</li>\n",
    "<li>¿Cuál es el número máximo de AGEBs donde se podría establecer el programa?</li>\n",
    "<li>Comparar los resultados de su muestra con los valores parametrales.</li>\n",
    "</ol>"
   ]
  },
  {
   "cell_type": "code",
   "execution_count": 1,
   "metadata": {},
   "outputs": [],
   "source": [
    "# Importar librerias\n",
    "from Funciones import Estadisticas\n",
    "import pandas as pd"
   ]
  },
  {
   "cell_type": "code",
   "execution_count": 2,
   "metadata": {},
   "outputs": [
    {
     "data": {
      "text/html": [
       "<div>\n",
       "<style scoped>\n",
       "    .dataframe tbody tr th:only-of-type {\n",
       "        vertical-align: middle;\n",
       "    }\n",
       "\n",
       "    .dataframe tbody tr th {\n",
       "        vertical-align: top;\n",
       "    }\n",
       "\n",
       "    .dataframe thead th {\n",
       "        text-align: right;\n",
       "    }\n",
       "</style>\n",
       "<table border=\"1\" class=\"dataframe\">\n",
       "  <thead>\n",
       "    <tr style=\"text-align: right;\">\n",
       "      <th></th>\n",
       "      <th>No</th>\n",
       "      <th>Clave Alcaldía</th>\n",
       "      <th>Alcaldía</th>\n",
       "      <th>AGEB</th>\n",
       "      <th>Población 15 años y más sin primaria</th>\n",
       "    </tr>\n",
       "  </thead>\n",
       "  <tbody>\n",
       "    <tr>\n",
       "      <th>1</th>\n",
       "      <td>1</td>\n",
       "      <td>7</td>\n",
       "      <td>Iztapalapa</td>\n",
       "      <td>4151</td>\n",
       "      <td>77</td>\n",
       "    </tr>\n",
       "    <tr>\n",
       "      <th>2</th>\n",
       "      <td>2</td>\n",
       "      <td>7</td>\n",
       "      <td>Iztapalapa</td>\n",
       "      <td>134A</td>\n",
       "      <td>283</td>\n",
       "    </tr>\n",
       "    <tr>\n",
       "      <th>3</th>\n",
       "      <td>3</td>\n",
       "      <td>7</td>\n",
       "      <td>Iztapalapa</td>\n",
       "      <td>4698</td>\n",
       "      <td>133</td>\n",
       "    </tr>\n",
       "    <tr>\n",
       "      <th>4</th>\n",
       "      <td>4</td>\n",
       "      <td>7</td>\n",
       "      <td>Iztapalapa</td>\n",
       "      <td>3562</td>\n",
       "      <td>50</td>\n",
       "    </tr>\n",
       "    <tr>\n",
       "      <th>5</th>\n",
       "      <td>5</td>\n",
       "      <td>7</td>\n",
       "      <td>Iztapalapa</td>\n",
       "      <td>3647</td>\n",
       "      <td>72</td>\n",
       "    </tr>\n",
       "  </tbody>\n",
       "</table>\n",
       "</div>"
      ],
      "text/plain": [
       "   No  Clave Alcaldía    Alcaldía  AGEB  Población 15 años y más sin primaria\n",
       "1   1               7  Iztapalapa  4151                                    77\n",
       "2   2               7  Iztapalapa  134A                                   283\n",
       "3   3               7  Iztapalapa  4698                                   133\n",
       "4   4               7  Iztapalapa  3562                                    50\n",
       "5   5               7  Iztapalapa  3647                                    72"
      ]
     },
     "execution_count": 2,
     "metadata": {},
     "output_type": "execute_result"
    }
   ],
   "source": [
    "## Leer el archivo de datos\n",
    "data = pd.read_excel('AGEBIZTAPALAPA.xlsx')\n",
    "\n",
    "# Ajustar el índice para que comience en 1\n",
    "data.index = pd.Index(range(1, len(data) + 1))\n",
    "\n",
    "# Mostrar las primeras filas\n",
    "data.head()"
   ]
  },
  {
   "cell_type": "code",
   "execution_count": 3,
   "metadata": {},
   "outputs": [
    {
     "data": {
      "text/html": [
       "<div>\n",
       "<style scoped>\n",
       "    .dataframe tbody tr th:only-of-type {\n",
       "        vertical-align: middle;\n",
       "    }\n",
       "\n",
       "    .dataframe tbody tr th {\n",
       "        vertical-align: top;\n",
       "    }\n",
       "\n",
       "    .dataframe thead th {\n",
       "        text-align: right;\n",
       "    }\n",
       "</style>\n",
       "<table border=\"1\" class=\"dataframe\">\n",
       "  <thead>\n",
       "    <tr style=\"text-align: right;\">\n",
       "      <th></th>\n",
       "      <th>Clave Alcaldía</th>\n",
       "      <th>Alcaldía</th>\n",
       "      <th>AGEB</th>\n",
       "      <th>Población 15 años y más sin primaria</th>\n",
       "    </tr>\n",
       "  </thead>\n",
       "  <tbody>\n",
       "    <tr>\n",
       "      <th>1</th>\n",
       "      <td>7</td>\n",
       "      <td>Iztapalapa</td>\n",
       "      <td>4151</td>\n",
       "      <td>77</td>\n",
       "    </tr>\n",
       "    <tr>\n",
       "      <th>2</th>\n",
       "      <td>7</td>\n",
       "      <td>Iztapalapa</td>\n",
       "      <td>134A</td>\n",
       "      <td>283</td>\n",
       "    </tr>\n",
       "    <tr>\n",
       "      <th>3</th>\n",
       "      <td>7</td>\n",
       "      <td>Iztapalapa</td>\n",
       "      <td>4698</td>\n",
       "      <td>133</td>\n",
       "    </tr>\n",
       "    <tr>\n",
       "      <th>4</th>\n",
       "      <td>7</td>\n",
       "      <td>Iztapalapa</td>\n",
       "      <td>3562</td>\n",
       "      <td>50</td>\n",
       "    </tr>\n",
       "    <tr>\n",
       "      <th>5</th>\n",
       "      <td>7</td>\n",
       "      <td>Iztapalapa</td>\n",
       "      <td>3647</td>\n",
       "      <td>72</td>\n",
       "    </tr>\n",
       "  </tbody>\n",
       "</table>\n",
       "</div>"
      ],
      "text/plain": [
       "   Clave Alcaldía    Alcaldía  AGEB  Población 15 años y más sin primaria\n",
       "1               7  Iztapalapa  4151                                    77\n",
       "2               7  Iztapalapa  134A                                   283\n",
       "3               7  Iztapalapa  4698                                   133\n",
       "4               7  Iztapalapa  3562                                    50\n",
       "5               7  Iztapalapa  3647                                    72"
      ]
     },
     "execution_count": 3,
     "metadata": {},
     "output_type": "execute_result"
    }
   ],
   "source": [
    "# Eliminar la primera columna\n",
    "data = data.drop(data.columns[0], axis=1)\n",
    "data.head()"
   ]
  },
  {
   "cell_type": "code",
   "execution_count": 4,
   "metadata": {},
   "outputs": [
    {
     "name": "stdout",
     "output_type": "stream",
     "text": [
      "<class 'pandas.core.frame.DataFrame'>\n",
      "RangeIndex: 458 entries, 1 to 458\n",
      "Data columns (total 4 columns):\n",
      " #   Column                                Non-Null Count  Dtype \n",
      "---  ------                                --------------  ----- \n",
      " 0   Clave Alcaldía                        458 non-null    int64 \n",
      " 1   Alcaldía                              458 non-null    object\n",
      " 2   AGEB                                  458 non-null    object\n",
      " 3   Población 15 años y más sin primaria  458 non-null    int64 \n",
      "dtypes: int64(2), object(2)\n",
      "memory usage: 14.4+ KB\n"
     ]
    }
   ],
   "source": [
    "data.info()"
   ]
  },
  {
   "cell_type": "markdown",
   "metadata": {},
   "source": [
    "El tipo de datos están correctamente almacenados."
   ]
  },
  {
   "cell_type": "code",
   "execution_count": 5,
   "metadata": {},
   "outputs": [
    {
     "data": {
      "text/plain": [
       "Clave Alcaldía                          0\n",
       "Alcaldía                                0\n",
       "AGEB                                    0\n",
       "Población 15 años y más sin primaria    0\n",
       "dtype: int64"
      ]
     },
     "execution_count": 5,
     "metadata": {},
     "output_type": "execute_result"
    }
   ],
   "source": [
    "## Estimación de valores faltantes o nulos\n",
    "data.isnull().sum()"
   ]
  },
  {
   "cell_type": "markdown",
   "metadata": {},
   "source": [
    "No hay valores nulos. "
   ]
  },
  {
   "cell_type": "markdown",
   "metadata": {},
   "source": [
    "## Solución de los incisos"
   ]
  },
  {
   "cell_type": "markdown",
   "metadata": {},
   "source": [
    "<ol type=\"a\">\n",
    "<li> Determinar el tamaño de muestra mediante una prueba piloto de tamaño 12.</li>\n",
    "</ol>"
   ]
  },
  {
   "cell_type": "code",
   "execution_count": 6,
   "metadata": {},
   "outputs": [],
   "source": [
    "## Instanciar la clase\n",
    "funcion = Estadisticas(data)"
   ]
  },
  {
   "cell_type": "code",
   "execution_count": 7,
   "metadata": {},
   "outputs": [
    {
     "name": "stdout",
     "output_type": "stream",
     "text": [
      "     Clave Alcaldía    Alcaldía  AGEB  Población 15 años y más sin primaria\n",
      "334               7  Iztapalapa  2070                                   189\n",
      "420               7  Iztapalapa  1000                                   164\n",
      "122               7  Iztapalapa  3755                                    87\n",
      "391               7  Iztapalapa  5499                                   203\n",
      "61                7  Iztapalapa  4236                                   393\n",
      "174               7  Iztapalapa  1388                                    71\n",
      "89                7  Iztapalapa  5766                                    74\n",
      "244               7  Iztapalapa  1439                                    59\n",
      "288               7  Iztapalapa  3558                                    33\n",
      "454               7  Iztapalapa  1867                                   359\n",
      "425               7  Iztapalapa  0021                                   217\n",
      "248               7  Iztapalapa  2117                                   120\n"
     ]
    }
   ],
   "source": [
    "## Aleotorizar los datos de tamaño 12\n",
    "\n",
    "tamano_muestra = 12\n",
    "muestra_piloto = funcion.aleatorio_simple(data, tamano_muestra)\n",
    "print(muestra_piloto)\n",
    "\n"
   ]
  },
  {
   "cell_type": "markdown",
   "metadata": {},
   "source": [
    "<ol type=\"a\" start=\"2\">\n",
    "    <li>Determinar el tamaño de muestra para un nivel de confianza del 95% y una precisión de 15 habitantes. </li>\n",
    "</ol>\n",
    "\n",
    "Se calcula, en primer lugar, el tamaño de muestra para la media sin correción por finitud mediante la siguiente fórmula: \n",
    "\n",
    "$$ n_0 = \\frac{z^2 s^2}{d^2} $$\n",
    "\n",
    "Donde: \n",
    "* $z^2$ es el nivel de confianza al cuadrado. \n",
    "* $d^2$ es la precisión al cuadrado\n",
    "* $s^2$ es la varianza al cuadrado de la muestra para media sin correción. \n",
    "\n",
    "Y una vez obtenido lo anterior, se obtiene el tamaño de muestra para la media con correción mediane la siguiente fórmula:\n",
    "\n",
    "$$ n =\\frac{n_0}{1+\\frac{n_0}{N}} $$\n",
    "\n",
    "Donde: \n",
    "* $n_0$ es la media sin correcion. \n",
    "* $N$ el tamaño de la muestra original\n"
   ]
  },
  {
   "cell_type": "code",
   "execution_count": 8,
   "metadata": {},
   "outputs": [
    {
     "name": "stdout",
     "output_type": "stream",
     "text": [
      "Tamaño de muestra de la media sin corrección: 204.54\n"
     ]
    }
   ],
   "source": [
    "## Calcular el tamaño de muestra mediante una prueba piloto de tamaño 12 con la media sin corrección\n",
    "\n",
    "# Se fija el nivel de confianza\n",
    "z = 1.96\n",
    "# Nivel de presición\n",
    "precision = 15\n",
    "# Columna numerica\n",
    "columna = data['Población 15 años y más sin primaria']\n",
    "\n",
    "tamano_muestra_sin_correcion = funcion.media_sin_correcion(datos=muestra_piloto, col_numerica=columna, z=z, presicion=precision)\n",
    "print('Tamaño de muestra de la media sin corrección:', tamano_muestra_sin_correcion)"
   ]
  },
  {
   "cell_type": "code",
   "execution_count": 9,
   "metadata": {},
   "outputs": [
    {
     "name": "stdout",
     "output_type": "stream",
     "text": [
      "Tamaño de muestra con la media con corrección: 141.39\n"
     ]
    }
   ],
   "source": [
    "## Calcular el tamaño de muestra con la media con corrección\n",
    "\n",
    "tamano_muestra_con_correccion = funcion.media_con_correcion(datos = data, n0=tamano_muestra_sin_correcion)\n",
    "print('Tamaño de muestra con la media con corrección:', tamano_muestra_con_correccion)"
   ]
  },
  {
   "cell_type": "markdown",
   "metadata": {},
   "source": [
    "<ol type=\"a\" start=\"3\"> \n",
    "<li>Calcular un intervalo de confianza para el promedio de personas mayores de 15 años con primaria incompleta para la muestra definitiva. </li>\n",
    "<ol>"
   ]
  },
  {
   "cell_type": "markdown",
   "metadata": {},
   "source": [
    "Una vez calculado el tamaño de muestra final, se procecede a tomar una muestra aletoria de 136 datos, y luego se obtiene el intervalo de confianza dada por la siguiente fórmula:\n",
    "\n",
    "$$ \\bar{y} \\pm Z\\sqrt{\\left( 1- \\frac{n}{N} \\right)\\frac{s^2}{n}} $$\n",
    "\n",
    "Donde:\n",
    "* $ \\bar{y} $ es la media de la muestra final.\n",
    "* $ s^2 $ es la varianza de la muestra final.\n",
    "* $ n $ es el tamño de la muestra final. \n",
    "* $ N $ es el tamño total de la población, en este caso el tamaño de los datos originales.  "
   ]
  },
  {
   "cell_type": "code",
   "execution_count": 10,
   "metadata": {},
   "outputs": [
    {
     "name": "stdout",
     "output_type": "stream",
     "text": [
      "     Clave Alcaldía    Alcaldía  AGEB  Población 15 años y más sin primaria\n",
      "394               7  Iztapalapa  2155                                   145\n",
      "230               7  Iztapalapa  1246                                   145\n",
      "435               7  Iztapalapa  3238                                   332\n",
      "391               7  Iztapalapa  5499                                   203\n",
      "239               7  Iztapalapa  0924                                    54\n",
      "..              ...         ...   ...                                   ...\n",
      "347               7  Iztapalapa  2634                                   206\n",
      "115               7  Iztapalapa  262A                                   312\n",
      "279               7  Iztapalapa  2668                                   214\n",
      "301               7  Iztapalapa  0888                                   162\n",
      "157               7  Iztapalapa  4414                                   159\n",
      "\n",
      "[141 rows x 4 columns]\n"
     ]
    }
   ],
   "source": [
    "## Calcular el tamaño de muestra con la media con corrección\n",
    "\n",
    "# Tamaño de muestra con corrección\n",
    "n = int(tamano_muestra_con_correccion)\n",
    "muestra_final = funcion.aleatorio_simple(data, n)\n",
    "print(muestra_final)"
   ]
  },
  {
   "cell_type": "code",
   "execution_count": 11,
   "metadata": {},
   "outputs": [
    {
     "name": "stdout",
     "output_type": "stream",
     "text": [
      "Límiite Inferior: 136.43 \n",
      "Límite Superior: 164.48\n"
     ]
    }
   ],
   "source": [
    "## Calcular el intervalo de confianza\n",
    "\n",
    "# Seleccionar la columna de la población\n",
    "columna_poblacion = muestra_final['Población 15 años y más sin primaria']\n",
    "\n",
    "# Calcular intervalos de confianza\n",
    "Limite_Inferior, Limite_Superior = funcion.intervalo_confianza(data, n, col_numerica = columna_poblacion, z = z)\n",
    "print(f'Límiite Inferior: {Limite_Inferior} \\nLímite Superior: {Limite_Superior}')\n"
   ]
  },
  {
   "cell_type": "markdown",
   "metadata": {},
   "source": [
    "<ol type=\"a\" start=\"4\" >\n",
    "<li>Calcular un intervalo de confianza para el total estimado de personas mayores de 15 años con primaria incompleta</li>\n",
    "</ol>"
   ]
  },
  {
   "cell_type": "markdown",
   "metadata": {},
   "source": [
    "Se obtiena el total estimado que está dado por:\n",
    "\n",
    "$$ \\bar{Y} = N\\bar{y} $$\n",
    "\n",
    "Donde:\n",
    "* $N$ es el tamaño de la población.\n",
    "* $\\bar{y}$ es la media de la muestra final."
   ]
  },
  {
   "cell_type": "code",
   "execution_count": 12,
   "metadata": {},
   "outputs": [
    {
     "name": "stdout",
     "output_type": "stream",
     "text": [
      "Total estimado: 68907.887\n"
     ]
    }
   ],
   "source": [
    "## Calculando el total estimado \n",
    "\n",
    "# Calcula la media de la muestra final\n",
    "total_estimado = funcion.total_estimado(datos=data, col_numerica=columna_poblacion)\n",
    "print(f'Total estimado: {total_estimado}')"
   ]
  },
  {
   "cell_type": "markdown",
   "metadata": {},
   "source": [
    "Calculamos el intervalo de confianza del total estimado, la cual está dada por:\n",
    "\n",
    "$$ \\bar{Y} \\pm NZ\\sqrt{\\left( 1- \\frac{n}{N} \\right)\\frac{s^2}{n}}$$\n",
    "\n",
    "Donde: \n",
    "* $N$ es el tamaño de la población.\n",
    "* $Z$ es el nivel de confianza. \n",
    "* $n$ es el tamaño de la muestra final.\n",
    "* $s^2$ es la varianza de la muestra final."
   ]
  },
  {
   "cell_type": "code",
   "execution_count": 13,
   "metadata": {},
   "outputs": [
    {
     "name": "stdout",
     "output_type": "stream",
     "text": [
      "Limiite Inferior: -22781.64 y Limite Superior: 160597.42\n"
     ]
    }
   ],
   "source": [
    "# Calculo de intervalo de confianza para el total estimado\n",
    "Limite_Inferior_total, Limite_Superior_total = funcion.intervalo_de_confianza_total(data, \n",
    "                                                                                 total_estimado=total_estimado,\n",
    "                                                                                 col_numerica = columna_poblacion, \n",
    "                                                                                 z=z)\n",
    "\n",
    "print(f'Limiite Inferior: {Limite_Inferior_total} y Limite Superior: {Limite_Superior_total}')"
   ]
  },
  {
   "cell_type": "markdown",
   "metadata": {},
   "source": [
    "<ol type= \"a\" start=\"5\">\n",
    "    <li>A partir de la muestra definitiva, estimar el total de AGEB mayores de 200 habitantes con primaria incompleta (personas mayores de 15 años)\n",
    "    </li>\n",
    "</ol>"
   ]
  },
  {
   "cell_type": "markdown",
   "metadata": {},
   "source": [
    "Sobre la muestra final, es de particular interés los valores mayores a 200 habitantes por AGEB que tienen la primaria incompleta."
   ]
  },
  {
   "cell_type": "code",
   "execution_count": 14,
   "metadata": {},
   "outputs": [
    {
     "data": {
      "text/html": [
       "<div>\n",
       "<style scoped>\n",
       "    .dataframe tbody tr th:only-of-type {\n",
       "        vertical-align: middle;\n",
       "    }\n",
       "\n",
       "    .dataframe tbody tr th {\n",
       "        vertical-align: top;\n",
       "    }\n",
       "\n",
       "    .dataframe thead th {\n",
       "        text-align: right;\n",
       "    }\n",
       "</style>\n",
       "<table border=\"1\" class=\"dataframe\">\n",
       "  <thead>\n",
       "    <tr style=\"text-align: right;\">\n",
       "      <th></th>\n",
       "      <th>Clave Alcaldía</th>\n",
       "      <th>Alcaldía</th>\n",
       "      <th>AGEB</th>\n",
       "      <th>Población 15 años y más sin primaria</th>\n",
       "      <th>Mayor a 200</th>\n",
       "    </tr>\n",
       "  </thead>\n",
       "  <tbody>\n",
       "    <tr>\n",
       "      <th>401</th>\n",
       "      <td>7</td>\n",
       "      <td>Iztapalapa</td>\n",
       "      <td>1814</td>\n",
       "      <td>170</td>\n",
       "      <td>0</td>\n",
       "    </tr>\n",
       "    <tr>\n",
       "      <th>159</th>\n",
       "      <td>7</td>\n",
       "      <td>Iztapalapa</td>\n",
       "      <td>3079</td>\n",
       "      <td>334</td>\n",
       "      <td>1</td>\n",
       "    </tr>\n",
       "    <tr>\n",
       "      <th>157</th>\n",
       "      <td>7</td>\n",
       "      <td>Iztapalapa</td>\n",
       "      <td>4414</td>\n",
       "      <td>159</td>\n",
       "      <td>0</td>\n",
       "    </tr>\n",
       "    <tr>\n",
       "      <th>327</th>\n",
       "      <td>7</td>\n",
       "      <td>Iztapalapa</td>\n",
       "      <td>3420</td>\n",
       "      <td>281</td>\n",
       "      <td>1</td>\n",
       "    </tr>\n",
       "    <tr>\n",
       "      <th>222</th>\n",
       "      <td>7</td>\n",
       "      <td>Iztapalapa</td>\n",
       "      <td>1640</td>\n",
       "      <td>129</td>\n",
       "      <td>0</td>\n",
       "    </tr>\n",
       "    <tr>\n",
       "      <th>5</th>\n",
       "      <td>7</td>\n",
       "      <td>Iztapalapa</td>\n",
       "      <td>3647</td>\n",
       "      <td>72</td>\n",
       "      <td>0</td>\n",
       "    </tr>\n",
       "    <tr>\n",
       "      <th>196</th>\n",
       "      <td>7</td>\n",
       "      <td>Iztapalapa</td>\n",
       "      <td>3505</td>\n",
       "      <td>287</td>\n",
       "      <td>1</td>\n",
       "    </tr>\n",
       "    <tr>\n",
       "      <th>155</th>\n",
       "      <td>7</td>\n",
       "      <td>Iztapalapa</td>\n",
       "      <td>419A</td>\n",
       "      <td>80</td>\n",
       "      <td>0</td>\n",
       "    </tr>\n",
       "    <tr>\n",
       "      <th>457</th>\n",
       "      <td>7</td>\n",
       "      <td>Iztapalapa</td>\n",
       "      <td>3632</td>\n",
       "      <td>306</td>\n",
       "      <td>1</td>\n",
       "    </tr>\n",
       "    <tr>\n",
       "      <th>219</th>\n",
       "      <td>7</td>\n",
       "      <td>Iztapalapa</td>\n",
       "      <td>5323</td>\n",
       "      <td>194</td>\n",
       "      <td>0</td>\n",
       "    </tr>\n",
       "    <tr>\n",
       "      <th>96</th>\n",
       "      <td>7</td>\n",
       "      <td>Iztapalapa</td>\n",
       "      <td>4306</td>\n",
       "      <td>67</td>\n",
       "      <td>0</td>\n",
       "    </tr>\n",
       "    <tr>\n",
       "      <th>10</th>\n",
       "      <td>7</td>\n",
       "      <td>Iztapalapa</td>\n",
       "      <td>3844</td>\n",
       "      <td>51</td>\n",
       "      <td>0</td>\n",
       "    </tr>\n",
       "    <tr>\n",
       "      <th>230</th>\n",
       "      <td>7</td>\n",
       "      <td>Iztapalapa</td>\n",
       "      <td>1246</td>\n",
       "      <td>145</td>\n",
       "      <td>0</td>\n",
       "    </tr>\n",
       "    <tr>\n",
       "      <th>9</th>\n",
       "      <td>7</td>\n",
       "      <td>Iztapalapa</td>\n",
       "      <td>1443</td>\n",
       "      <td>29</td>\n",
       "      <td>0</td>\n",
       "    </tr>\n",
       "    <tr>\n",
       "      <th>76</th>\n",
       "      <td>7</td>\n",
       "      <td>Iztapalapa</td>\n",
       "      <td>0587</td>\n",
       "      <td>68</td>\n",
       "      <td>0</td>\n",
       "    </tr>\n",
       "    <tr>\n",
       "      <th>321</th>\n",
       "      <td>7</td>\n",
       "      <td>Iztapalapa</td>\n",
       "      <td>141A</td>\n",
       "      <td>110</td>\n",
       "      <td>0</td>\n",
       "    </tr>\n",
       "    <tr>\n",
       "      <th>418</th>\n",
       "      <td>7</td>\n",
       "      <td>Iztapalapa</td>\n",
       "      <td>2403</td>\n",
       "      <td>14</td>\n",
       "      <td>0</td>\n",
       "    </tr>\n",
       "    <tr>\n",
       "      <th>319</th>\n",
       "      <td>7</td>\n",
       "      <td>Iztapalapa</td>\n",
       "      <td>3045</td>\n",
       "      <td>343</td>\n",
       "      <td>1</td>\n",
       "    </tr>\n",
       "    <tr>\n",
       "      <th>359</th>\n",
       "      <td>7</td>\n",
       "      <td>Iztapalapa</td>\n",
       "      <td>472A</td>\n",
       "      <td>180</td>\n",
       "      <td>0</td>\n",
       "    </tr>\n",
       "    <tr>\n",
       "      <th>98</th>\n",
       "      <td>7</td>\n",
       "      <td>Iztapalapa</td>\n",
       "      <td>2189</td>\n",
       "      <td>90</td>\n",
       "      <td>0</td>\n",
       "    </tr>\n",
       "  </tbody>\n",
       "</table>\n",
       "</div>"
      ],
      "text/plain": [
       "     Clave Alcaldía    Alcaldía  AGEB  Población 15 años y más sin primaria  \\\n",
       "401               7  Iztapalapa  1814                                   170   \n",
       "159               7  Iztapalapa  3079                                   334   \n",
       "157               7  Iztapalapa  4414                                   159   \n",
       "327               7  Iztapalapa  3420                                   281   \n",
       "222               7  Iztapalapa  1640                                   129   \n",
       "5                 7  Iztapalapa  3647                                    72   \n",
       "196               7  Iztapalapa  3505                                   287   \n",
       "155               7  Iztapalapa  419A                                    80   \n",
       "457               7  Iztapalapa  3632                                   306   \n",
       "219               7  Iztapalapa  5323                                   194   \n",
       "96                7  Iztapalapa  4306                                    67   \n",
       "10                7  Iztapalapa  3844                                    51   \n",
       "230               7  Iztapalapa  1246                                   145   \n",
       "9                 7  Iztapalapa  1443                                    29   \n",
       "76                7  Iztapalapa  0587                                    68   \n",
       "321               7  Iztapalapa  141A                                   110   \n",
       "418               7  Iztapalapa  2403                                    14   \n",
       "319               7  Iztapalapa  3045                                   343   \n",
       "359               7  Iztapalapa  472A                                   180   \n",
       "98                7  Iztapalapa  2189                                    90   \n",
       "\n",
       "     Mayor a 200  \n",
       "401            0  \n",
       "159            1  \n",
       "157            0  \n",
       "327            1  \n",
       "222            0  \n",
       "5              0  \n",
       "196            1  \n",
       "155            0  \n",
       "457            1  \n",
       "219            0  \n",
       "96             0  \n",
       "10             0  \n",
       "230            0  \n",
       "9              0  \n",
       "76             0  \n",
       "321            0  \n",
       "418            0  \n",
       "319            1  \n",
       "359            0  \n",
       "98             0  "
      ]
     },
     "execution_count": 14,
     "metadata": {},
     "output_type": "execute_result"
    }
   ],
   "source": [
    "## Agregar columna con la condición de ser mayor a 200\n",
    "muestra_final['Mayor a 200'] = muestra_final['Población 15 años y más sin primaria'] > 200\n",
    "# Cambiar el tipo de dato a entero\n",
    "muestra_final['Mayor a 200'] = muestra_final['Mayor a 200'].astype(int)\n",
    "muestra_final.sample(20)\n"
   ]
  },
  {
   "cell_type": "markdown",
   "metadata": {},
   "source": [
    "Se obtiene la proporción de la población de 15 años y más sin primara mayores 200 habitantes. "
   ]
  },
  {
   "cell_type": "code",
   "execution_count": 15,
   "metadata": {},
   "outputs": [
    {
     "name": "stdout",
     "output_type": "stream",
     "text": [
      "Proporción de la población con primaria incompleta y mayor a 200: 0.28\n"
     ]
    }
   ],
   "source": [
    "## Proporción de la población con primaria incompleta y mayor a 200\n",
    "\n",
    "# Poblacion con primaria incompleta y mayor a 200\n",
    "a = sum([i for i in muestra_final['Mayor a 200'] if i == 1])\n",
    "\n",
    "proporcion = funcion.proporcion_poblacion(a = a, n = n)\n",
    "print(f'Proporción de la población con primaria incompleta y mayor a 200: {proporcion}')"
   ]
  },
  {
   "cell_type": "markdown",
   "metadata": {},
   "source": [
    "Calculamos el total estimado de la proporción mediente la siguiente expresión:\n",
    "\n",
    "$$ \\bar{A} = Np $$\n",
    "\n",
    "Donde:\n",
    "\n",
    "* $N$ es el tamaño de la población\n",
    "* $p$ es la proporción de la población\n"
   ]
  },
  {
   "cell_type": "code",
   "execution_count": 16,
   "metadata": {},
   "outputs": [
    {
     "name": "stdout",
     "output_type": "stream",
     "text": [
      "Total estimado de la proporción: 128.24\n"
     ]
    }
   ],
   "source": [
    "## Calcular el total estimado de la proporción \n",
    "\n",
    "total_estimado_proporcion = funcion.total_estimado_proporcion(datos=data, p =proporcion)\n",
    "print(f'Total estimado de la proporción: {total_estimado_proporcion}')"
   ]
  },
  {
   "cell_type": "markdown",
   "metadata": {},
   "source": [
    "<ol type=\"a\" start=\"6\">\n",
    "<li> ¿Cuál es el número máximo de AGEBs donde se podría establecer el programa?</li>\n",
    "</ol>"
   ]
  },
  {
   "cell_type": "markdown",
   "metadata": {},
   "source": [
    "Para calcular el máximo de AGEBs donde se podría establecer el programa, calculamos el intervalo de confianza de la proporción total, la que se expresa como:\n",
    "\n",
    "$$ P\\left(\\bar{P}-Z \\sqrt{1-\\frac{n}{N}} \\sqrt{\\frac{pq}{n-1}}<P<\\bar{P}+Z \\sqrt{1-\\frac{n}{N}} \\sqrt{\\frac{pq}{n-1}}\\right)=1-\\alpha $$\n",
    "\n",
    "Donde: \n",
    "* $P$ es el total estimado de la proporción.\n",
    "* $N$ es el tamaño de la población.\n",
    "* $p$ es la proporción de la población.\n",
    "* $q$ es el complemento de $p$, esto es, $1-p$.\n",
    "* $Z$ el nivel de confianza."
   ]
  },
  {
   "cell_type": "code",
   "execution_count": 17,
   "metadata": {},
   "outputs": [
    {
     "name": "stdout",
     "output_type": "stream",
     "text": [
      "Limiite Inferior: 156.58 y Limite Superior: 99.9\n",
      "El número máximo de AGEBs donde se podría establecer el programa: 99.9\n"
     ]
    }
   ],
   "source": [
    "## Calcular el intervalo de confianza para la proporción total estimado\n",
    "Limite_inferior_prop, Limite_superior_prop = funcion.intervalo_de_confianza_prop(datos= data, p = proporcion, n = n, z = z, total_esti_propor = total_estimado_proporcion)\n",
    "print(f'Limiite Inferior: {Limite_inferior_prop} y Limite Superior: {Limite_superior_prop}')\n",
    "\n",
    "print(f'El número máximo de AGEBs donde se podría establecer el programa: {Limite_superior_prop}')"
   ]
  },
  {
   "cell_type": "markdown",
   "metadata": {},
   "source": [
    "<ol type=\"a\" start=\"7\">\n",
    "<li>Comparar los resultados de su muestra con los valores parametrales.</li>\n",
    "</ol>"
   ]
  },
  {
   "cell_type": "code",
   "execution_count": 18,
   "metadata": {},
   "outputs": [],
   "source": [
    "## Agregar columna  con la condición de ser mayor a 200\n",
    "data['Mayor a 200'] = data['Población 15 años y más sin primaria'] > 200\n",
    "# Cambiar el tipo de dato a entero\n",
    "data['Mayor a 200'] = data['Mayor a 200'].astype(int)"
   ]
  },
  {
   "cell_type": "code",
   "execution_count": 19,
   "metadata": {},
   "outputs": [],
   "source": [
    "# Cálculo de valores parametrales y muestrales\n",
    "\n",
    "# Media de la población y de la muestra final\n",
    "Media_pob = data['Población 15 años y más sin primaria'].mean()\n",
    "Media_muestra = muestra_final['Población 15 años y más sin primaria'].mean()\n",
    "\n",
    "# Suma de la población con el parámetro de interés\n",
    "Suma_pob = data['Población 15 años y más sin primaria'].sum()\n",
    "# Suma de las aAGEBs que cumplen la condición de ser mayor a 200 \n",
    "Suma_Agebs_mayor_200 = sum([i for i in data['Mayor a 200'] if i == 1])"
   ]
  },
  {
   "cell_type": "code",
   "execution_count": 20,
   "metadata": {},
   "outputs": [
    {
     "data": {
      "text/html": [
       "<div>\n",
       "<style scoped>\n",
       "    .dataframe tbody tr th:only-of-type {\n",
       "        vertical-align: middle;\n",
       "    }\n",
       "\n",
       "    .dataframe tbody tr th {\n",
       "        vertical-align: top;\n",
       "    }\n",
       "\n",
       "    .dataframe thead th {\n",
       "        text-align: right;\n",
       "    }\n",
       "</style>\n",
       "<table border=\"1\" class=\"dataframe\">\n",
       "  <thead>\n",
       "    <tr style=\"text-align: right;\">\n",
       "      <th></th>\n",
       "      <th>Estimador</th>\n",
       "      <th>Población</th>\n",
       "      <th>Muestra</th>\n",
       "      <th>Error Parametral</th>\n",
       "    </tr>\n",
       "  </thead>\n",
       "  <tbody>\n",
       "    <tr>\n",
       "      <th>0</th>\n",
       "      <td>Media</td>\n",
       "      <td>152.017467</td>\n",
       "      <td>150.453901</td>\n",
       "      <td>0.010285</td>\n",
       "    </tr>\n",
       "    <tr>\n",
       "      <th>1</th>\n",
       "      <td>Total</td>\n",
       "      <td>69624.000000</td>\n",
       "      <td>68907.887000</td>\n",
       "      <td>0.010285</td>\n",
       "    </tr>\n",
       "    <tr>\n",
       "      <th>2</th>\n",
       "      <td>Proporción</td>\n",
       "      <td>133.000000</td>\n",
       "      <td>128.240000</td>\n",
       "      <td>0.035789</td>\n",
       "    </tr>\n",
       "  </tbody>\n",
       "</table>\n",
       "</div>"
      ],
      "text/plain": [
       "    Estimador     Población       Muestra  Error Parametral\n",
       "0       Media    152.017467    150.453901          0.010285\n",
       "1       Total  69624.000000  68907.887000          0.010285\n",
       "2  Proporción    133.000000    128.240000          0.035789"
      ]
     },
     "execution_count": 20,
     "metadata": {},
     "output_type": "execute_result"
    }
   ],
   "source": [
    "# Tabla de resultados\n",
    "resultados = pd.DataFrame({'Estimador': ['Media', 'Total', 'Proporción'],\n",
    "                           'Población': [Media_pob, Suma_pob, Suma_Agebs_mayor_200],\n",
    "                           'Muestra': [Media_muestra, total_estimado, total_estimado_proporcion],\n",
    "                           'Error Parametral': [1-(Media_muestra/Media_pob), 1-(total_estimado/Suma_pob), 1-(total_estimado_proporcion/Suma_Agebs_mayor_200)]})\n",
    "resultados"
   ]
  },
  {
   "cell_type": "markdown",
   "metadata": {},
   "source": [
    "### Conclusiones\n",
    "\n",
    "Con un 95% de confianza, se cubrirá el parámetro real, y difiere en un 1% de error paraemtral."
   ]
  }
 ],
 "metadata": {
  "kernelspec": {
   "display_name": "Python 3",
   "language": "python",
   "name": "python3"
  },
  "language_info": {
   "codemirror_mode": {
    "name": "ipython",
    "version": 3
   },
   "file_extension": ".py",
   "mimetype": "text/x-python",
   "name": "python",
   "nbconvert_exporter": "python",
   "pygments_lexer": "ipython3",
   "version": "3.11.4"
  }
 },
 "nbformat": 4,
 "nbformat_minor": 2
}
