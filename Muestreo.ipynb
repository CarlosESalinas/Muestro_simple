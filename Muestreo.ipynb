{
 "cells": [
  {
   "cell_type": "markdown",
   "metadata": {},
   "source": [
    "Las autoridades de educación básica de la alcaldía de Iztapalapa desean implementar un programa educativo para las personas mayores de 15 años con primaria incompleta con el fin de que puedan obtener su certificado de primaria. Para ello necesitan estimar el número aproximado de personas mayores de 15 años sin primaria terminada en la alcaldía.\n",
    "Se hará una encuesta en las AGEBs de Iztapalapa para recabar la información que se necesita para el diseño del programa.\n",
    "\n",
    "<ol type=\"a\">\n",
    "<li>Para poder conocer el tamaño de la muestra se realiza una prueba piloto de tamaño 12.</li>\n",
    "<li>Determinar el tamaño de muestra para un nivel de confianza del 95% y una precisión de 15 habitantes.</li>\n",
    "<li>Calcular un intervalo de confianza para el promedio de personas mayores de 15 años con primaria incompleta para la muestra definitiva.</li>\n",
    "<li>Calcular un intervalo de confianza para el total estimado de personas mayores de 15 años con primaria incompleta</li>\n",
    "\n",
    "Debido a cuestiones de presupuesto, el programa se centrará en aquellos AGEBs con al menos 200 habitantes.\n",
    "<li>A partir de la muestra definitiva, estimar el total de AGEB mayores de 200 habitantes con primaria incompleta (personas mayores de 15 años)</li>\n",
    "<li>¿Cuál es el número máximo de AGEBs donde se podría establecer el programa?</li>\n",
    "<li>Comparar los resultados de su muestra con los valores parametrales.</li>\n",
    "</ol>"
   ]
  },
  {
   "cell_type": "code",
   "execution_count": 11,
   "metadata": {},
   "outputs": [],
   "source": [
    "from Funciones import Estadisticas\n",
    "import pandas as pd"
   ]
  },
  {
   "cell_type": "code",
   "execution_count": 12,
   "metadata": {},
   "outputs": [
    {
     "data": {
      "text/html": [
       "<div>\n",
       "<style scoped>\n",
       "    .dataframe tbody tr th:only-of-type {\n",
       "        vertical-align: middle;\n",
       "    }\n",
       "\n",
       "    .dataframe tbody tr th {\n",
       "        vertical-align: top;\n",
       "    }\n",
       "\n",
       "    .dataframe thead th {\n",
       "        text-align: right;\n",
       "    }\n",
       "</style>\n",
       "<table border=\"1\" class=\"dataframe\">\n",
       "  <thead>\n",
       "    <tr style=\"text-align: right;\">\n",
       "      <th></th>\n",
       "      <th>No</th>\n",
       "      <th>Clave Alcaldía</th>\n",
       "      <th>Alcaldía</th>\n",
       "      <th>AGEB</th>\n",
       "      <th>Población 15 años y más sin primaria</th>\n",
       "    </tr>\n",
       "  </thead>\n",
       "  <tbody>\n",
       "    <tr>\n",
       "      <th>1</th>\n",
       "      <td>1</td>\n",
       "      <td>7</td>\n",
       "      <td>Iztapalapa</td>\n",
       "      <td>4151</td>\n",
       "      <td>77</td>\n",
       "    </tr>\n",
       "    <tr>\n",
       "      <th>2</th>\n",
       "      <td>2</td>\n",
       "      <td>7</td>\n",
       "      <td>Iztapalapa</td>\n",
       "      <td>134A</td>\n",
       "      <td>283</td>\n",
       "    </tr>\n",
       "    <tr>\n",
       "      <th>3</th>\n",
       "      <td>3</td>\n",
       "      <td>7</td>\n",
       "      <td>Iztapalapa</td>\n",
       "      <td>4698</td>\n",
       "      <td>133</td>\n",
       "    </tr>\n",
       "    <tr>\n",
       "      <th>4</th>\n",
       "      <td>4</td>\n",
       "      <td>7</td>\n",
       "      <td>Iztapalapa</td>\n",
       "      <td>3562</td>\n",
       "      <td>50</td>\n",
       "    </tr>\n",
       "    <tr>\n",
       "      <th>5</th>\n",
       "      <td>5</td>\n",
       "      <td>7</td>\n",
       "      <td>Iztapalapa</td>\n",
       "      <td>3647</td>\n",
       "      <td>72</td>\n",
       "    </tr>\n",
       "  </tbody>\n",
       "</table>\n",
       "</div>"
      ],
      "text/plain": [
       "   No  Clave Alcaldía    Alcaldía  AGEB  Población 15 años y más sin primaria\n",
       "1   1               7  Iztapalapa  4151                                    77\n",
       "2   2               7  Iztapalapa  134A                                   283\n",
       "3   3               7  Iztapalapa  4698                                   133\n",
       "4   4               7  Iztapalapa  3562                                    50\n",
       "5   5               7  Iztapalapa  3647                                    72"
      ]
     },
     "execution_count": 12,
     "metadata": {},
     "output_type": "execute_result"
    }
   ],
   "source": [
    "## Leer el archivo de datos\n",
    "data = pd.read_excel('AGEBIZTAPALAPA.xlsx')\n",
    "\n",
    "# Ajustar el índice para que comience en 1\n",
    "data.index = pd.Index(range(1, len(data) + 1))\n",
    "\n",
    "# Mostrar las primeras filas\n",
    "data.head()"
   ]
  },
  {
   "cell_type": "code",
   "execution_count": 13,
   "metadata": {},
   "outputs": [
    {
     "data": {
      "text/html": [
       "<div>\n",
       "<style scoped>\n",
       "    .dataframe tbody tr th:only-of-type {\n",
       "        vertical-align: middle;\n",
       "    }\n",
       "\n",
       "    .dataframe tbody tr th {\n",
       "        vertical-align: top;\n",
       "    }\n",
       "\n",
       "    .dataframe thead th {\n",
       "        text-align: right;\n",
       "    }\n",
       "</style>\n",
       "<table border=\"1\" class=\"dataframe\">\n",
       "  <thead>\n",
       "    <tr style=\"text-align: right;\">\n",
       "      <th></th>\n",
       "      <th>Clave Alcaldía</th>\n",
       "      <th>Alcaldía</th>\n",
       "      <th>AGEB</th>\n",
       "      <th>Población 15 años y más sin primaria</th>\n",
       "    </tr>\n",
       "  </thead>\n",
       "  <tbody>\n",
       "    <tr>\n",
       "      <th>1</th>\n",
       "      <td>7</td>\n",
       "      <td>Iztapalapa</td>\n",
       "      <td>4151</td>\n",
       "      <td>77</td>\n",
       "    </tr>\n",
       "    <tr>\n",
       "      <th>2</th>\n",
       "      <td>7</td>\n",
       "      <td>Iztapalapa</td>\n",
       "      <td>134A</td>\n",
       "      <td>283</td>\n",
       "    </tr>\n",
       "    <tr>\n",
       "      <th>3</th>\n",
       "      <td>7</td>\n",
       "      <td>Iztapalapa</td>\n",
       "      <td>4698</td>\n",
       "      <td>133</td>\n",
       "    </tr>\n",
       "    <tr>\n",
       "      <th>4</th>\n",
       "      <td>7</td>\n",
       "      <td>Iztapalapa</td>\n",
       "      <td>3562</td>\n",
       "      <td>50</td>\n",
       "    </tr>\n",
       "    <tr>\n",
       "      <th>5</th>\n",
       "      <td>7</td>\n",
       "      <td>Iztapalapa</td>\n",
       "      <td>3647</td>\n",
       "      <td>72</td>\n",
       "    </tr>\n",
       "  </tbody>\n",
       "</table>\n",
       "</div>"
      ],
      "text/plain": [
       "   Clave Alcaldía    Alcaldía  AGEB  Población 15 años y más sin primaria\n",
       "1               7  Iztapalapa  4151                                    77\n",
       "2               7  Iztapalapa  134A                                   283\n",
       "3               7  Iztapalapa  4698                                   133\n",
       "4               7  Iztapalapa  3562                                    50\n",
       "5               7  Iztapalapa  3647                                    72"
      ]
     },
     "execution_count": 13,
     "metadata": {},
     "output_type": "execute_result"
    }
   ],
   "source": [
    "# Eliminar la primera columna\n",
    "data = data.drop(data.columns[0], axis=1)\n",
    "data.head()\n"
   ]
  },
  {
   "cell_type": "code",
   "execution_count": 14,
   "metadata": {},
   "outputs": [
    {
     "name": "stdout",
     "output_type": "stream",
     "text": [
      "<class 'pandas.core.frame.DataFrame'>\n",
      "RangeIndex: 458 entries, 1 to 458\n",
      "Data columns (total 4 columns):\n",
      " #   Column                                Non-Null Count  Dtype \n",
      "---  ------                                --------------  ----- \n",
      " 0   Clave Alcaldía                        458 non-null    int64 \n",
      " 1   Alcaldía                              458 non-null    object\n",
      " 2   AGEB                                  458 non-null    object\n",
      " 3   Población 15 años y más sin primaria  458 non-null    int64 \n",
      "dtypes: int64(2), object(2)\n",
      "memory usage: 14.4+ KB\n"
     ]
    }
   ],
   "source": [
    "data.info()"
   ]
  },
  {
   "cell_type": "markdown",
   "metadata": {},
   "source": [
    "<ol type=\"a\">\n",
    "<li> Se determina el tamaño de muestra mediante una prueba piloto de tamaño 12.</li>\n",
    "</ol>"
   ]
  },
  {
   "cell_type": "code",
   "execution_count": 15,
   "metadata": {},
   "outputs": [],
   "source": [
    "## Instanciar la clase\n",
    "funcion = Estadisticas(data)"
   ]
  },
  {
   "cell_type": "code",
   "execution_count": 16,
   "metadata": {},
   "outputs": [
    {
     "name": "stdout",
     "output_type": "stream",
     "text": [
      "     Clave Alcaldía    Alcaldía  AGEB  Población 15 años y más sin primaria\n",
      "10                7  Iztapalapa  3844                                    51\n",
      "212               7  Iztapalapa  2884                                   138\n",
      "363               7  Iztapalapa  0676                                    39\n",
      "87                7  Iztapalapa  4310                                   104\n",
      "4                 7  Iztapalapa  3562                                    50\n",
      "36                7  Iztapalapa  1087                                   212\n",
      "31                7  Iztapalapa  3401                                   356\n",
      "141               7  Iztapalapa  0854                                   237\n",
      "104               7  Iztapalapa  5906                                    89\n",
      "83                7  Iztapalapa  4359                                   104\n",
      "49                7  Iztapalapa  5200                                   265\n",
      "22                7  Iztapalapa  4560                                    39\n"
     ]
    }
   ],
   "source": [
    "## Aleotorizar los datos de tamaño 12\n",
    "\n",
    "tamano_muestra = 12\n",
    "muestra_piloto = funcion.aleatorio_simple(data, tamano_muestra)\n",
    "print(muestra_piloto)\n",
    "\n"
   ]
  },
  {
   "cell_type": "markdown",
   "metadata": {},
   "source": [
    "<ol type=\"a\" start=\"2\">\n",
    "    <li>Determinar el tamaño de muestra para un nivel de confianza del 95% y una precisión de 15 habitantes. </li>\n",
    "</ol>\n",
    "\n",
    "Se calcula en primer lugar el tamaño de muestra para la media sin correción por finitud mediante la siguiente fórmula: \n",
    "\n",
    "$$ n_0 = \\frac{z^2 s^2}{d^2} $$\n",
    "\n",
    "Donde: \n",
    "* $z^2$ es el nivel de confianza al cuadrado. \n",
    "* $d^2$ es la precisión al cuadrado\n",
    "* $s^2$ es la varianza al cuadrado de la muestra para media sin correción. \n",
    "\n",
    "Y una vez obtenido lo anterior, se obtiene el tamaño de muestra para la media con correción mediane la siguiente fórmula:\n",
    "\n",
    "$$ n =\\frac{n_0}{1+\\frac{n_0}{N}} $$\n",
    "\n",
    "Donde: \n",
    "* $n_0$ es la media sin correcion. \n",
    "* $N$ el tamaño de la muestra original\n"
   ]
  },
  {
   "cell_type": "code",
   "execution_count": 17,
   "metadata": {},
   "outputs": [
    {
     "name": "stdout",
     "output_type": "stream",
     "text": [
      "Tamaño de muestra de la media sin corrección: 183.92\n"
     ]
    }
   ],
   "source": [
    "## Calcular el tamaño de muestra mediante una prueba piloto de tamaño 12 con la media sin corrección\n",
    "z = 1.96\n",
    "tamano_muestra_sin_correcion = funcion.media_sin_correcion(datos=muestra_piloto, columna='Población 15 años y más sin primaria', z=z, presicion=15)\n",
    "print('Tamaño de muestra de la media sin corrección:', tamano_muestra_sin_correcion)"
   ]
  },
  {
   "cell_type": "code",
   "execution_count": 18,
   "metadata": {},
   "outputs": [
    {
     "name": "stdout",
     "output_type": "stream",
     "text": [
      "Tamaño de muestra con la media con corrección: 131.22\n"
     ]
    }
   ],
   "source": [
    "## Calcular el tamaño de muestra con la media con corrección\n",
    "\n",
    "tamano_muestra_con_correccion = funcion.media_con_correcion(datos = data, n0=tamano_muestra_sin_correcion)\n",
    "print('Tamaño de muestra con la media con corrección:', tamano_muestra_con_correccion)"
   ]
  },
  {
   "cell_type": "markdown",
   "metadata": {},
   "source": [
    "<ol type=\"a\" start=\"3\"> \n",
    "<li>Calcular un intervalo de confianza para el promedio de personas mayores de 15 años con primaria incompleta para la muestra definitiva. </li>\n",
    "<ol>"
   ]
  },
  {
   "cell_type": "markdown",
   "metadata": {},
   "source": [
    "Una vez calculado el tamaño de muestra final, se procecede a tomar una muestra aletoria de 136 datos, y luego se obtiene el intervalo de confianza dada por la siguiente fórmula:\n",
    "\n",
    "$$ \\bar{y} \\pm Z\\sqrt{\\left( 1- \\frac{n}{N} \\right)\\frac{s^2}{n}} $$\n",
    "\n",
    "Donde:\n",
    "* $ \\bar{y} $ es la media de la muestra final.\n",
    "* $ s^2 $ es la varianza de la muestra final.\n",
    "* $ n $ es el tamño de la muestra final. \n",
    "* $ N $ es el tamño total de la población, en este caso el tamaño de los datos originales.  "
   ]
  },
  {
   "cell_type": "code",
   "execution_count": 19,
   "metadata": {},
   "outputs": [
    {
     "name": "stdout",
     "output_type": "stream",
     "text": [
      "     Clave Alcaldía    Alcaldía  AGEB  Población 15 años y más sin primaria\n",
      "80                7  Iztapalapa  4147                                    19\n",
      "422               7  Iztapalapa  0479                                   210\n",
      "398               7  Iztapalapa  2102                                    98\n",
      "235               7  Iztapalapa  5431                                    52\n",
      "331               7  Iztapalapa  1763                                   263\n",
      "..              ...         ...   ...                                   ...\n",
      "140               7  Iztapalapa  4448                                    37\n",
      "310               7  Iztapalapa  006A                                   156\n",
      "275               7  Iztapalapa  4645                                    47\n",
      "66                7  Iztapalapa  5291                                   193\n",
      "50                7  Iztapalapa  2206                                    76\n",
      "\n",
      "[131 rows x 4 columns]\n"
     ]
    }
   ],
   "source": [
    "## Calcular el tamaño de muestra con la media con corrección\n",
    "n = int(tamano_muestra_con_correccion)\n",
    "muestra_final = funcion.aleatorio_simple(data, n)\n",
    "print(muestra_final)"
   ]
  },
  {
   "cell_type": "code",
   "execution_count": 20,
   "metadata": {},
   "outputs": [
    {
     "name": "stdout",
     "output_type": "stream",
     "text": [
      "Limiite Inferior: 148.39 y Limite Superior: 181.74\n"
     ]
    }
   ],
   "source": [
    "## Calcular el intervalo de confianza\n",
    "\n",
    "# Tamaño de muestra con corrección\n",
    "n = int(tamano_muestra_con_correccion)\n",
    "\n",
    "# Seleccionar la columna de la población\n",
    "columna_poblacion = muestra_final['Población 15 años y más sin primaria']\n",
    "\n",
    "# Calcular intervalos de confianza\n",
    "Limite_Inferior, Limite_Superior = funcion.intervalo_confianza(data, n, col_numerica = columna_poblacion, z = z)\n",
    "print(f'Limiite Inferior: {Limite_Inferior} y Limite Superior: {Limite_Superior}')\n"
   ]
  },
  {
   "cell_type": "markdown",
   "metadata": {},
   "source": [
    "<ol type=\"a\" start=\"4\" >\n",
    "<li>Calcular un intervalo de confianza para el total estimado de personas mayores de 15 años con primaria incompleta</li>\n",
    "</ol>"
   ]
  },
  {
   "cell_type": "markdown",
   "metadata": {},
   "source": [
    "Se obtiena el total estimado que está dado por:\n",
    "\n",
    "$$ \\bar{Y} = N\\bar{y} $$\n",
    "\n",
    "Donde:\n",
    "* $N$ es el tamaño de la población.\n",
    "* $\\bar{y}$ es la media de la muestra final."
   ]
  },
  {
   "cell_type": "code",
   "execution_count": 21,
   "metadata": {},
   "outputs": [
    {
     "name": "stdout",
     "output_type": "stream",
     "text": [
      "Total estimado: 75601.466\n"
     ]
    }
   ],
   "source": [
    "## Calculando el total estimado \n",
    "\n",
    "# Calcula la media de la muestra final\n",
    "total_estimado = funcion.total_estimado(datos=data, col_numerica=columna_poblacion)\n",
    "print(f'Total estimado: {total_estimado}')"
   ]
  },
  {
   "cell_type": "markdown",
   "metadata": {},
   "source": [
    "Calculamos el intervalo de confianza del total estimado, la cual está dada por:\n",
    "\n",
    "$$ \\bar{Y} \\pm NZ\\sqrt{\\left( 1- \\frac{n}{N} \\right)\\frac{s^2}{n}}$$\n",
    "\n",
    "Donde: \n",
    "* $N$ es el tamaño de la población.\n",
    "* $Z$ es el nivel de confianza. \n",
    "* $n$ es el tamaño de la muestra final.\n",
    "* $s^2$ es la varianza de la muestra final."
   ]
  },
  {
   "cell_type": "code",
   "execution_count": 23,
   "metadata": {},
   "outputs": [
    {
     "name": "stdout",
     "output_type": "stream",
     "text": [
      "Limiite Inferior: -27841.93 y Limite Superior: 179044.86\n"
     ]
    }
   ],
   "source": [
    "# Calculo de intervalo de confianza para el total estimado\n",
    "Limite_Inferior_total, Limite_Superior_total = funcion.intervalo_de_confianza_total(data, \n",
    "                                                                                 total_estimado=total_estimado,\n",
    "                                                                                 col_numerica = columna_poblacion, \n",
    "                                                                                 z=z)\n",
    "\n",
    "print(f'Limiite Inferior: {Limite_Inferior_total} y Limite Superior: {Limite_Superior_total}')"
   ]
  },
  {
   "cell_type": "markdown",
   "metadata": {},
   "source": [
    "<ol type= \"a\" start=\"5\">\n",
    "    <li>A partir de la muestra definitiva, estimar el total de AGEB mayores de 200 habitantes con primaria incompleta (personas mayores de 15 años)\n",
    "    </li>\n",
    "</ol>"
   ]
  },
  {
   "cell_type": "markdown",
   "metadata": {},
   "source": [
    "Sobre la muestra final, es de particular interés los valores mayores a 200 habitantes por AGEB que tienen la primaria incompleta."
   ]
  },
  {
   "cell_type": "code",
   "execution_count": 24,
   "metadata": {},
   "outputs": [
    {
     "data": {
      "text/html": [
       "<div>\n",
       "<style scoped>\n",
       "    .dataframe tbody tr th:only-of-type {\n",
       "        vertical-align: middle;\n",
       "    }\n",
       "\n",
       "    .dataframe tbody tr th {\n",
       "        vertical-align: top;\n",
       "    }\n",
       "\n",
       "    .dataframe thead th {\n",
       "        text-align: right;\n",
       "    }\n",
       "</style>\n",
       "<table border=\"1\" class=\"dataframe\">\n",
       "  <thead>\n",
       "    <tr style=\"text-align: right;\">\n",
       "      <th></th>\n",
       "      <th>Clave Alcaldía</th>\n",
       "      <th>Alcaldía</th>\n",
       "      <th>AGEB</th>\n",
       "      <th>Población 15 años y más sin primaria</th>\n",
       "      <th>Mayor a 200</th>\n",
       "    </tr>\n",
       "  </thead>\n",
       "  <tbody>\n",
       "    <tr>\n",
       "      <th>259</th>\n",
       "      <td>7</td>\n",
       "      <td>Iztapalapa</td>\n",
       "      <td>0750</td>\n",
       "      <td>355</td>\n",
       "      <td>1</td>\n",
       "    </tr>\n",
       "    <tr>\n",
       "      <th>248</th>\n",
       "      <td>7</td>\n",
       "      <td>Iztapalapa</td>\n",
       "      <td>2117</td>\n",
       "      <td>120</td>\n",
       "      <td>0</td>\n",
       "    </tr>\n",
       "    <tr>\n",
       "      <th>133</th>\n",
       "      <td>7</td>\n",
       "      <td>Iztapalapa</td>\n",
       "      <td>5817</td>\n",
       "      <td>21</td>\n",
       "      <td>0</td>\n",
       "    </tr>\n",
       "    <tr>\n",
       "      <th>425</th>\n",
       "      <td>7</td>\n",
       "      <td>Iztapalapa</td>\n",
       "      <td>0021</td>\n",
       "      <td>217</td>\n",
       "      <td>1</td>\n",
       "    </tr>\n",
       "    <tr>\n",
       "      <th>12</th>\n",
       "      <td>7</td>\n",
       "      <td>Iztapalapa</td>\n",
       "      <td>1706</td>\n",
       "      <td>282</td>\n",
       "      <td>1</td>\n",
       "    </tr>\n",
       "    <tr>\n",
       "      <th>300</th>\n",
       "      <td>7</td>\n",
       "      <td>Iztapalapa</td>\n",
       "      <td>5751</td>\n",
       "      <td>78</td>\n",
       "      <td>0</td>\n",
       "    </tr>\n",
       "    <tr>\n",
       "      <th>423</th>\n",
       "      <td>7</td>\n",
       "      <td>Iztapalapa</td>\n",
       "      <td>2649</td>\n",
       "      <td>258</td>\n",
       "      <td>1</td>\n",
       "    </tr>\n",
       "    <tr>\n",
       "      <th>6</th>\n",
       "      <td>7</td>\n",
       "      <td>Iztapalapa</td>\n",
       "      <td>4240</td>\n",
       "      <td>276</td>\n",
       "      <td>1</td>\n",
       "    </tr>\n",
       "    <tr>\n",
       "      <th>59</th>\n",
       "      <td>7</td>\n",
       "      <td>Iztapalapa</td>\n",
       "      <td>5658</td>\n",
       "      <td>483</td>\n",
       "      <td>1</td>\n",
       "    </tr>\n",
       "    <tr>\n",
       "      <th>285</th>\n",
       "      <td>7</td>\n",
       "      <td>Iztapalapa</td>\n",
       "      <td>5319</td>\n",
       "      <td>203</td>\n",
       "      <td>1</td>\n",
       "    </tr>\n",
       "    <tr>\n",
       "      <th>331</th>\n",
       "      <td>7</td>\n",
       "      <td>Iztapalapa</td>\n",
       "      <td>1763</td>\n",
       "      <td>263</td>\n",
       "      <td>1</td>\n",
       "    </tr>\n",
       "    <tr>\n",
       "      <th>9</th>\n",
       "      <td>7</td>\n",
       "      <td>Iztapalapa</td>\n",
       "      <td>1443</td>\n",
       "      <td>29</td>\n",
       "      <td>0</td>\n",
       "    </tr>\n",
       "    <tr>\n",
       "      <th>223</th>\n",
       "      <td>7</td>\n",
       "      <td>Iztapalapa</td>\n",
       "      <td>1566</td>\n",
       "      <td>322</td>\n",
       "      <td>1</td>\n",
       "    </tr>\n",
       "    <tr>\n",
       "      <th>280</th>\n",
       "      <td>7</td>\n",
       "      <td>Iztapalapa</td>\n",
       "      <td>2386</td>\n",
       "      <td>138</td>\n",
       "      <td>0</td>\n",
       "    </tr>\n",
       "    <tr>\n",
       "      <th>50</th>\n",
       "      <td>7</td>\n",
       "      <td>Iztapalapa</td>\n",
       "      <td>2206</td>\n",
       "      <td>76</td>\n",
       "      <td>0</td>\n",
       "    </tr>\n",
       "    <tr>\n",
       "      <th>80</th>\n",
       "      <td>7</td>\n",
       "      <td>Iztapalapa</td>\n",
       "      <td>4147</td>\n",
       "      <td>19</td>\n",
       "      <td>0</td>\n",
       "    </tr>\n",
       "    <tr>\n",
       "      <th>337</th>\n",
       "      <td>7</td>\n",
       "      <td>Iztapalapa</td>\n",
       "      <td>4664</td>\n",
       "      <td>128</td>\n",
       "      <td>0</td>\n",
       "    </tr>\n",
       "    <tr>\n",
       "      <th>296</th>\n",
       "      <td>7</td>\n",
       "      <td>Iztapalapa</td>\n",
       "      <td>4113</td>\n",
       "      <td>26</td>\n",
       "      <td>0</td>\n",
       "    </tr>\n",
       "    <tr>\n",
       "      <th>390</th>\n",
       "      <td>7</td>\n",
       "      <td>Iztapalapa</td>\n",
       "      <td>3986</td>\n",
       "      <td>65</td>\n",
       "      <td>0</td>\n",
       "    </tr>\n",
       "    <tr>\n",
       "      <th>188</th>\n",
       "      <td>7</td>\n",
       "      <td>Iztapalapa</td>\n",
       "      <td>3859</td>\n",
       "      <td>133</td>\n",
       "      <td>0</td>\n",
       "    </tr>\n",
       "  </tbody>\n",
       "</table>\n",
       "</div>"
      ],
      "text/plain": [
       "     Clave Alcaldía    Alcaldía  AGEB  Población 15 años y más sin primaria  \\\n",
       "259               7  Iztapalapa  0750                                   355   \n",
       "248               7  Iztapalapa  2117                                   120   \n",
       "133               7  Iztapalapa  5817                                    21   \n",
       "425               7  Iztapalapa  0021                                   217   \n",
       "12                7  Iztapalapa  1706                                   282   \n",
       "300               7  Iztapalapa  5751                                    78   \n",
       "423               7  Iztapalapa  2649                                   258   \n",
       "6                 7  Iztapalapa  4240                                   276   \n",
       "59                7  Iztapalapa  5658                                   483   \n",
       "285               7  Iztapalapa  5319                                   203   \n",
       "331               7  Iztapalapa  1763                                   263   \n",
       "9                 7  Iztapalapa  1443                                    29   \n",
       "223               7  Iztapalapa  1566                                   322   \n",
       "280               7  Iztapalapa  2386                                   138   \n",
       "50                7  Iztapalapa  2206                                    76   \n",
       "80                7  Iztapalapa  4147                                    19   \n",
       "337               7  Iztapalapa  4664                                   128   \n",
       "296               7  Iztapalapa  4113                                    26   \n",
       "390               7  Iztapalapa  3986                                    65   \n",
       "188               7  Iztapalapa  3859                                   133   \n",
       "\n",
       "     Mayor a 200  \n",
       "259            1  \n",
       "248            0  \n",
       "133            0  \n",
       "425            1  \n",
       "12             1  \n",
       "300            0  \n",
       "423            1  \n",
       "6              1  \n",
       "59             1  \n",
       "285            1  \n",
       "331            1  \n",
       "9              0  \n",
       "223            1  \n",
       "280            0  \n",
       "50             0  \n",
       "80             0  \n",
       "337            0  \n",
       "296            0  \n",
       "390            0  \n",
       "188            0  "
      ]
     },
     "execution_count": 24,
     "metadata": {},
     "output_type": "execute_result"
    }
   ],
   "source": [
    "## Agregar columna con la condición de ser mayor a 200\n",
    "muestra_final['Mayor a 200'] = muestra_final['Población 15 años y más sin primaria'] > 200\n",
    "# Cambiar el tipo de dato a entero\n",
    "muestra_final['Mayor a 200'] = muestra_final['Mayor a 200'].astype(int)\n",
    "muestra_final.sample(20)\n"
   ]
  },
  {
   "cell_type": "markdown",
   "metadata": {},
   "source": [
    "Se obtiene la proporción de la población de 15 años y más sin primara mayores 200 habitantes. "
   ]
  },
  {
   "cell_type": "code",
   "execution_count": 26,
   "metadata": {},
   "outputs": [
    {
     "name": "stdout",
     "output_type": "stream",
     "text": [
      "Proporción de la población con primaria incompleta y mayor a 200: 0.34\n"
     ]
    }
   ],
   "source": [
    "## Proporción de la población con primaria incompleta y mayor a 200\n",
    "\n",
    "# Poblacion con primaria incompleta y mayor a 200\n",
    "a = sum([i for i in muestra_final['Mayor a 200'] if i == 1])\n",
    "\n",
    "proporcion = funcion.proporcion_poblacion(a = a, n = n)\n",
    "print(f'Proporción de la población con primaria incompleta y mayor a 200: {proporcion}')\n"
   ]
  },
  {
   "cell_type": "markdown",
   "metadata": {},
   "source": [
    "Calculamos el total estimado de la proporción mediente la siguiente expresión:\n",
    "\n",
    "$$ \\bar{A} = Np $$\n",
    "\n",
    "Donde:\n",
    "\n",
    "* $N$ es el tamaño de la población\n",
    "* $p$ es la proporción de la población\n"
   ]
  },
  {
   "cell_type": "code",
   "execution_count": 27,
   "metadata": {},
   "outputs": [
    {
     "name": "stdout",
     "output_type": "stream",
     "text": [
      "Total estimado de la proporción: 155.72\n"
     ]
    }
   ],
   "source": [
    "## Calcular el total estimado de la proporción \n",
    "\n",
    "total_estimado_proporcion = funcion.total_estimado_proporcion(datos=data, p =proporcion)\n",
    "print(f'Total estimado de la proporción: {total_estimado_proporcion}')"
   ]
  },
  {
   "cell_type": "markdown",
   "metadata": {},
   "source": [
    "<ol type=\"a\" start=\"6\">\n",
    "<li> ¿Cuál es el número máximo de AGEBs donde se podría establecer el programa?</li>\n",
    "</ol>"
   ]
  },
  {
   "cell_type": "markdown",
   "metadata": {},
   "source": [
    "Para calcular el máximo de AGEBs donde se podría establecer el programa, calculamos el intervalo de confianza de la proporción total, la que se expresa como:\n",
    "\n",
    "$$ P\\left(\\bar{P}-Z \\sqrt{1-\\frac{n}{N}} \\sqrt{\\frac{pq}{n-1}}<P<\\bar{P}+Z \\sqrt{1-\\frac{n}{N}} \\sqrt{\\frac{pq}{n-1}}\\right)=1-\\alpha $$\n",
    "\n",
    "Donde: \n",
    "* $P$ es el total estimado de la proporción.\n",
    "* $N$ es el tamaño de la población.\n",
    "* $p$ es la proporción de la población.\n",
    "* $q$ es el complemento de $p$, esto es, $1-p$.\n",
    "* $Z$ el nivel de confianza."
   ]
  },
  {
   "cell_type": "code",
   "execution_count": 29,
   "metadata": {},
   "outputs": [
    {
     "name": "stdout",
     "output_type": "stream",
     "text": [
      "Limiite Inferior: 187.234 y Limite Superior: 124.206\n",
      "El número máximo de AGEBs donde se podría establecer el programa: 124.206\n"
     ]
    }
   ],
   "source": [
    "## Calcular el intervalo de confianza para la proporción total estimado\n",
    "Limite_inferior_prop, Limite_superior_prop = funcion.intervalo_de_confianza_prop(datos= data, p = proporcion, n = n, z = z, total_esti_propor = total_estimado_proporcion)\n",
    "print(f'Limiite Inferior: {Limite_inferior_prop} y Limite Superior: {Limite_superior_prop}')\n",
    "\n",
    "print(f'El número máximo de AGEBs donde se podría establecer el programa: {Limite_superior_prop}')"
   ]
  },
  {
   "cell_type": "markdown",
   "metadata": {},
   "source": [
    "<ol type=\"a\" start=\"7\">\n",
    "<li>Comparar los resultados de su muestra con los valores parametrales.</li>\n",
    "</ol>"
   ]
  },
  {
   "cell_type": "code",
   "execution_count": 30,
   "metadata": {},
   "outputs": [],
   "source": [
    "## Agregar columna  con la condición de ser mayor a 200\n",
    "data['Mayor a 200'] = data['Población 15 años y más sin primaria'] > 200\n",
    "# Cambiar el tipo de dato a entero\n",
    "data['Mayor a 200'] = data['Mayor a 200'].astype(int)"
   ]
  },
  {
   "cell_type": "code",
   "execution_count": 31,
   "metadata": {},
   "outputs": [],
   "source": [
    "# Cálculo de valores parametrales y muestrales\n",
    "\n",
    "# Media de la población y de la muestra final\n",
    "Media_pob = data['Población 15 años y más sin primaria'].mean()\n",
    "Media_muestra = muestra_final['Población 15 años y más sin primaria'].mean()\n",
    "\n",
    "# Suma de la población con el parámetro de interés\n",
    "Suma_pob = data['Población 15 años y más sin primaria'].sum()\n",
    "# Suma de las aAGEBs que cumplen la condición de ser mayor a 200 \n",
    "Suma_Agebs_mayor_200 = sum([i for i in data['Mayor a 200'] if i == 1])\n",
    "\n"
   ]
  },
  {
   "cell_type": "code",
   "execution_count": 52,
   "metadata": {},
   "outputs": [
    {
     "data": {
      "text/html": [
       "<div>\n",
       "<style scoped>\n",
       "    .dataframe tbody tr th:only-of-type {\n",
       "        vertical-align: middle;\n",
       "    }\n",
       "\n",
       "    .dataframe tbody tr th {\n",
       "        vertical-align: top;\n",
       "    }\n",
       "\n",
       "    .dataframe thead th {\n",
       "        text-align: right;\n",
       "    }\n",
       "</style>\n",
       "<table border=\"1\" class=\"dataframe\">\n",
       "  <thead>\n",
       "    <tr style=\"text-align: right;\">\n",
       "      <th></th>\n",
       "      <th>Estimador</th>\n",
       "      <th>Población</th>\n",
       "      <th>Muestra</th>\n",
       "      <th>Error Parametra</th>\n",
       "    </tr>\n",
       "  </thead>\n",
       "  <tbody>\n",
       "    <tr>\n",
       "      <th>0</th>\n",
       "      <td>Media</td>\n",
       "      <td>152.017467</td>\n",
       "      <td>165.068702</td>\n",
       "      <td>-0.085854</td>\n",
       "    </tr>\n",
       "    <tr>\n",
       "      <th>1</th>\n",
       "      <td>Total</td>\n",
       "      <td>69624.000000</td>\n",
       "      <td>75601.466000</td>\n",
       "      <td>-0.085854</td>\n",
       "    </tr>\n",
       "    <tr>\n",
       "      <th>2</th>\n",
       "      <td>Proporción</td>\n",
       "      <td>133.000000</td>\n",
       "      <td>155.720000</td>\n",
       "      <td>-0.170827</td>\n",
       "    </tr>\n",
       "  </tbody>\n",
       "</table>\n",
       "</div>"
      ],
      "text/plain": [
       "    Estimador     Población       Muestra  Error Parametra\n",
       "0       Media    152.017467    165.068702        -0.085854\n",
       "1       Total  69624.000000  75601.466000        -0.085854\n",
       "2  Proporción    133.000000    155.720000        -0.170827"
      ]
     },
     "execution_count": 52,
     "metadata": {},
     "output_type": "execute_result"
    }
   ],
   "source": [
    "# Tabla de resultados\n",
    "resultados = pd.DataFrame({'Estimador': ['Media', 'Total', 'Proporción'],\n",
    "                           'Población': [Media_pob, Suma_pob, Suma_Agebs_mayor_200],\n",
    "                           'Muestra': [Media_muestra, total_estimado, total_estimado_proporcion],\n",
    "                           'Error Parametra': [1-(Media_muestra/Media_pob), 1-(total_estimado/Suma_pob), 1-(total_estimado_proporcion/Suma_Agebs_mayor_200)]})\n",
    "resultados"
   ]
  }
 ],
 "metadata": {
  "kernelspec": {
   "display_name": "Python 3",
   "language": "python",
   "name": "python3"
  },
  "language_info": {
   "codemirror_mode": {
    "name": "ipython",
    "version": 3
   },
   "file_extension": ".py",
   "mimetype": "text/x-python",
   "name": "python",
   "nbconvert_exporter": "python",
   "pygments_lexer": "ipython3",
   "version": "3.11.4"
  }
 },
 "nbformat": 4,
 "nbformat_minor": 2
}
